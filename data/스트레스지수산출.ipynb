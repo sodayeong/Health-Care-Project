{
  "nbformat": 4,
  "nbformat_minor": 0,
  "metadata": {
    "colab": {
      "name": "스트레스지수산출.ipynb",
      "provenance": []
    },
    "kernelspec": {
      "name": "python3",
      "display_name": "Python 3"
    },
    "language_info": {
      "name": "python"
    }
  },
  "cells": [
    {
      "cell_type": "code",
      "execution_count": 1,
      "metadata": {
        "colab": {
          "base_uri": "https://localhost:8080/"
        },
        "id": "iPiJlhyv5Sfv",
        "outputId": "4ebc0374-98be-4925-a44e-f333cfae3f71"
      },
      "outputs": [
        {
          "output_type": "stream",
          "name": "stdout",
          "text": [
            "Mounted at /content/drive\n"
          ]
        }
      ],
      "source": [
        "from google.colab import drive\n",
        "drive.mount('/content/drive')"
      ]
    },
    {
      "cell_type": "code",
      "source": [
        "import numpy as np\n",
        "import pandas as pd\n",
        "import numpy\n",
        "import math"
      ],
      "metadata": {
        "id": "7-zzNu8Z5XVC"
      },
      "execution_count": 2,
      "outputs": []
    },
    {
      "cell_type": "code",
      "source": [
        "!pip install hrv-analysis\n",
        "from hrvanalysis import get_time_domain_features\n",
        "from hrvanalysis import get_geometrical_features\n",
        "from hrvanalysis import get_frequency_domain_features"
      ],
      "metadata": {
        "colab": {
          "base_uri": "https://localhost:8080/"
        },
        "id": "O0stfiDk5YYa",
        "outputId": "2c2e2580-28d8-4cf2-f7b3-451c789d03cd"
      },
      "execution_count": 3,
      "outputs": [
        {
          "output_type": "stream",
          "name": "stdout",
          "text": [
            "Looking in indexes: https://pypi.org/simple, https://us-python.pkg.dev/colab-wheels/public/simple/\n",
            "Collecting hrv-analysis\n",
            "  Downloading hrv_analysis-1.0.4-py3-none-any.whl (28 kB)\n",
            "Requirement already satisfied: numpy>=1.15.1 in /usr/local/lib/python3.7/dist-packages (from hrv-analysis) (1.21.6)\n",
            "Requirement already satisfied: pandas>=0.23.4 in /usr/local/lib/python3.7/dist-packages (from hrv-analysis) (1.3.5)\n",
            "Collecting nolds>=0.4.1\n",
            "  Downloading nolds-0.5.2-py2.py3-none-any.whl (39 kB)\n",
            "Requirement already satisfied: matplotlib>=2.2.2 in /usr/local/lib/python3.7/dist-packages (from hrv-analysis) (3.2.2)\n",
            "Requirement already satisfied: scipy>=1.1.0 in /usr/local/lib/python3.7/dist-packages (from hrv-analysis) (1.4.1)\n",
            "Requirement already satisfied: astropy>=3.0.4 in /usr/local/lib/python3.7/dist-packages (from hrv-analysis) (4.3.1)\n",
            "Requirement already satisfied: pyerfa>=1.7.3 in /usr/local/lib/python3.7/dist-packages (from astropy>=3.0.4->hrv-analysis) (2.0.0.1)\n",
            "Requirement already satisfied: importlib-metadata in /usr/local/lib/python3.7/dist-packages (from astropy>=3.0.4->hrv-analysis) (4.11.4)\n",
            "Requirement already satisfied: kiwisolver>=1.0.1 in /usr/local/lib/python3.7/dist-packages (from matplotlib>=2.2.2->hrv-analysis) (1.4.2)\n",
            "Requirement already satisfied: python-dateutil>=2.1 in /usr/local/lib/python3.7/dist-packages (from matplotlib>=2.2.2->hrv-analysis) (2.8.2)\n",
            "Requirement already satisfied: pyparsing!=2.0.4,!=2.1.2,!=2.1.6,>=2.0.1 in /usr/local/lib/python3.7/dist-packages (from matplotlib>=2.2.2->hrv-analysis) (3.0.9)\n",
            "Requirement already satisfied: cycler>=0.10 in /usr/local/lib/python3.7/dist-packages (from matplotlib>=2.2.2->hrv-analysis) (0.11.0)\n",
            "Requirement already satisfied: typing-extensions in /usr/local/lib/python3.7/dist-packages (from kiwisolver>=1.0.1->matplotlib>=2.2.2->hrv-analysis) (4.2.0)\n",
            "Requirement already satisfied: setuptools in /usr/local/lib/python3.7/dist-packages (from nolds>=0.4.1->hrv-analysis) (57.4.0)\n",
            "Requirement already satisfied: future in /usr/local/lib/python3.7/dist-packages (from nolds>=0.4.1->hrv-analysis) (0.16.0)\n",
            "Requirement already satisfied: pytz>=2017.3 in /usr/local/lib/python3.7/dist-packages (from pandas>=0.23.4->hrv-analysis) (2022.1)\n",
            "Requirement already satisfied: six>=1.5 in /usr/local/lib/python3.7/dist-packages (from python-dateutil>=2.1->matplotlib>=2.2.2->hrv-analysis) (1.15.0)\n",
            "Requirement already satisfied: zipp>=0.5 in /usr/local/lib/python3.7/dist-packages (from importlib-metadata->astropy>=3.0.4->hrv-analysis) (3.8.0)\n",
            "Installing collected packages: nolds, hrv-analysis\n",
            "Successfully installed hrv-analysis-1.0.4 nolds-0.5.2\n"
          ]
        }
      ]
    },
    {
      "cell_type": "code",
      "source": [
        "sj = pd.read_csv('/content/drive/MyDrive/캡스톤/20220323_sj.csv')"
      ],
      "metadata": {
        "id": "UPGDBpBC5Zdv"
      },
      "execution_count": 19,
      "outputs": []
    },
    {
      "cell_type": "markdown",
      "source": [
        "## HRV 표준 지표 산출"
      ],
      "metadata": {
        "id": "rb0ZivPG7mlM"
      }
    },
    {
      "cell_type": "code",
      "source": [
        "nn_intervals_sj = 60000 / sj['value']\n",
        "nn_intervals_sj"
      ],
      "metadata": {
        "colab": {
          "base_uri": "https://localhost:8080/"
        },
        "id": "-K6_u1de5c7B",
        "outputId": "8a0378d6-134a-4947-b4bb-5bd50c516d11"
      },
      "execution_count": 14,
      "outputs": [
        {
          "output_type": "execute_result",
          "data": {
            "text/plain": [
              "0        869.565217\n",
              "1        857.142857\n",
              "2        857.142857\n",
              "3        845.070423\n",
              "4        810.810811\n",
              "            ...    \n",
              "13081    769.230769\n",
              "13082    759.493671\n",
              "13083    731.707317\n",
              "13084    750.000000\n",
              "13085    759.493671\n",
              "Name: value, Length: 13086, dtype: float64"
            ]
          },
          "metadata": {},
          "execution_count": 14
        }
      ]
    },
    {
      "cell_type": "code",
      "source": [
        "time_domain_features_sj = get_time_domain_features(nn_intervals_sj)\n",
        "geometrical_features_sj = get_geometrical_features(nn_intervals_sj)\n",
        "frequency_domain_features_sj = get_frequency_domain_features(nn_intervals_sj)"
      ],
      "metadata": {
        "id": "1RsZEgsE5diw"
      },
      "execution_count": 15,
      "outputs": []
    },
    {
      "cell_type": "markdown",
      "source": [
        "## 만성스트레스지수"
      ],
      "metadata": {
        "id": "qKdkDCyg5l57"
      }
    },
    {
      "cell_type": "code",
      "source": [
        "t_sdnn_sj = 50+(time_domain_features_sj['sdnn']-147.59)/20.37*10\n",
        "t_triangular_index_sj = 50+(geometrical_features_sj['triangular_index']-22.49)/2.37*10"
      ],
      "metadata": {
        "id": "mq71YrYJ5kqp"
      },
      "execution_count": 16,
      "outputs": []
    },
    {
      "cell_type": "code",
      "source": [
        "sj_stress = 100 - (t_sdnn_sj + t_triangular_index_sj)/2"
      ],
      "metadata": {
        "id": "zWPtMsFn5rCz"
      },
      "execution_count": 17,
      "outputs": []
    },
    {
      "cell_type": "markdown",
      "source": [
        "## 급성스트레스지수"
      ],
      "metadata": {
        "id": "dD8MkRhL6Eme"
      }
    },
    {
      "cell_type": "code",
      "source": [
        "t_lf_hf_sj = 50+(frequency_domain_features_sj['lf_hf_ratio']-4.74)/1.1*10\n",
        "t_hr_sj = 50+(sj['value'].mean()-81.09)/3.07*10"
      ],
      "metadata": {
        "id": "DgHAt0Ih6MZY"
      },
      "execution_count": 24,
      "outputs": []
    }
  ]
}