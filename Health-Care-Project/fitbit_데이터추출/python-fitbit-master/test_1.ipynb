{
 "cells": [
  {
   "cell_type": "code",
   "execution_count": 5,
   "metadata": {},
   "outputs": [
    {
     "name": "stderr",
     "output_type": "stream",
     "text": [
      "[10/Sep/2022:00:33:42] ENGINE Listening for SIGTERM.\n",
      "[10/Sep/2022:00:33:42] ENGINE Listening for SIGHUP.\n",
      "[10/Sep/2022:00:33:42] ENGINE Listening for SIGUSR1.\n",
      "[10/Sep/2022:00:33:42] ENGINE Bus STARTING\n",
      "[10/Sep/2022:00:33:42] ENGINE Started monitor thread 'Autoreloader'.\n",
      "[10/Sep/2022:00:33:42] ENGINE Serving on http://127.0.0.1:8080\n",
      "[10/Sep/2022:00:33:42] ENGINE Bus STARTED\n"
     ]
    },
    {
     "name": "stdout",
     "output_type": "stream",
     "text": [
      "127.0.0.1 - - [10/Sep/2022:00:33:50] \"GET /?code=9cf007b7d6fc7a19cb3c5e46a2ac8111a26fd448&state=qtdNWSj8GtTHCFTZtjbs9DcoScwh2o HTTP/1.1\" 200 122 \"\" \"Mozilla/5.0 (Macintosh; Intel Mac OS X 10_15_7) AppleWebKit/605.1.15 (KHTML, like Gecko) Version/15.5 Safari/605.1.15\"\n",
      "127.0.0.1 - - [10/Sep/2022:00:33:50] \"GET /favicon.ico HTTP/1.1\" 200 1406 \"http://127.0.0.1:8080/?code=9cf007b7d6fc7a19cb3c5e46a2ac8111a26fd448&state=qtdNWSj8GtTHCFTZtjbs9DcoScwh2o\" \"Mozilla/5.0 (Macintosh; Intel Mac OS X 10_15_7) AppleWebKit/605.1.15 (KHTML, like Gecko) Version/15.5 Safari/605.1.15\"\n"
     ]
    },
    {
     "name": "stderr",
     "output_type": "stream",
     "text": [
      "[10/Sep/2022:00:33:51] ENGINE Bus STOPPING\n",
      "[10/Sep/2022:00:33:51] ENGINE HTTP Server cherrypy._cpwsgi_server.CPWSGIServer(('127.0.0.1', 8080)) shut down\n",
      "[10/Sep/2022:00:33:51] ENGINE Stopped thread 'Autoreloader'.\n",
      "[10/Sep/2022:00:33:51] ENGINE Bus STOPPED\n",
      "[10/Sep/2022:00:33:51] ENGINE Bus EXITING\n",
      "[10/Sep/2022:00:33:51] ENGINE Bus EXITED\n",
      "[10/Sep/2022:00:33:51] ENGINE Waiting for child threads to terminate...\n"
     ]
    }
   ],
   "source": [
    "import matplotlib.pyplot as plt\n",
    "import fitbit\n",
    "\n",
    "# gather_keys_oauth2.py file needs to be in the same directory. \n",
    "# also needs to install cherrypy: https://pypi.org/project/CherryPy/\n",
    "#!pip install CherryPy\n",
    "import gather_keys_oauth2 as Oauth2\n",
    "import pandas as pd \n",
    "import datetime\n",
    "\n",
    "import cherrypy\n",
    "\n",
    "CLIENT_ID='238RWF'\n",
    "CLIENT_SECRET='e1209868af85cb05ade8916a3382f33f'\n",
    "\n",
    "server=Oauth2.OAuth2Server(CLIENT_ID, CLIENT_SECRET)\n",
    "server.browser_authorize()\n",
    "ACCESS_TOKEN=str(server.fitbit.client.session.token['access_token'])\n",
    "REFRESH_TOKEN=str(server.fitbit.client.session.token['refresh_token'])\n",
    "auth2_client=fitbit.Fitbit(CLIENT_ID,CLIENT_SECRET,oauth2=True,access_token=ACCESS_TOKEN,refresh_token=REFRESH_TOKEN)\n",
    "\n"
   ]
  },
  {
   "cell_type": "code",
   "execution_count": 12,
   "metadata": {},
   "outputs": [
    {
     "name": "stderr",
     "output_type": "stream",
     "text": [
      "/Users/dayeong/opt/anaconda3/lib/python3.7/site-packages/ipykernel_launcher.py:2: FutureWarning: The pandas.datetime class is deprecated and will be removed from pandas in a future version. Import from datetime module instead.\n",
      "  \n"
     ]
    }
   ],
   "source": [
    "#기준날짜\n",
    "oneDate = pd.datetime(year = 2022, month = 9, day = 6)"
   ]
  },
  {
   "cell_type": "code",
   "execution_count": 13,
   "metadata": {},
   "outputs": [
    {
     "name": "stdout",
     "output_type": "stream",
     "text": [
      "Help on method intraday_time_series in module fitbit.api:\n",
      "\n",
      "intraday_time_series(resource, base_date='today', detail_level='1min', start_time=None, end_time=None) method of fitbit.api.Fitbit instance\n",
      "    The intraday time series extends the functionality of the regular time series, but returning data at a\n",
      "    more granular level for a single day, defaulting to 1 minute intervals. To access this feature, one must\n",
      "    fill out the Private Support form here (see https://dev.fitbit.com/docs/help/).\n",
      "    For details on the resources available and more information on how to get access, see:\n",
      "    \n",
      "    https://dev.fitbit.com/docs/activity/#get-activity-intraday-time-series\n",
      "\n"
     ]
    }
   ],
   "source": [
    "help(auth2_client.intraday_time_series)"
   ]
  },
  {
   "cell_type": "code",
   "execution_count": 14,
   "metadata": {},
   "outputs": [],
   "source": [
    "#예시 1 - 심박수 뽑기\n",
    "oneDayData = auth2_client.intraday_time_series('activities/heart',\n",
    "                                               base_date=oneDate,\n",
    "                                               detail_level='1sec')"
   ]
  },
  {
   "cell_type": "code",
   "execution_count": 15,
   "metadata": {},
   "outputs": [
    {
     "data": {
      "text/plain": [
       "{'activities-heart': [{'dateTime': '2022-09-06',\n",
       "   'value': {'customHeartRateZones': [],\n",
       "    'heartRateZones': [{'caloriesOut': 1288.08,\n",
       "      'max': 115,\n",
       "      'min': 30,\n",
       "      'minutes': 1440,\n",
       "      'name': 'Out of Range'},\n",
       "     {'caloriesOut': 0,\n",
       "      'max': 142,\n",
       "      'min': 115,\n",
       "      'minutes': 0,\n",
       "      'name': 'Fat Burn'},\n",
       "     {'caloriesOut': 0,\n",
       "      'max': 177,\n",
       "      'min': 142,\n",
       "      'minutes': 0,\n",
       "      'name': 'Cardio'},\n",
       "     {'caloriesOut': 0,\n",
       "      'max': 220,\n",
       "      'min': 177,\n",
       "      'minutes': 0,\n",
       "      'name': 'Peak'}]}}]}"
      ]
     },
     "execution_count": 15,
     "metadata": {},
     "output_type": "execute_result"
    }
   ],
   "source": [
    "oneDayData"
   ]
  },
  {
   "cell_type": "code",
   "execution_count": 16,
   "metadata": {},
   "outputs": [
    {
     "ename": "KeyError",
     "evalue": "'activities-heart-intraday'",
     "output_type": "error",
     "traceback": [
      "\u001b[0;31m---------------------------------------------------------------------------\u001b[0m",
      "\u001b[0;31mKeyError\u001b[0m                                  Traceback (most recent call last)",
      "\u001b[0;32m<ipython-input-16-6cce0e686a69>\u001b[0m in \u001b[0;36m<module>\u001b[0;34m\u001b[0m\n\u001b[0;32m----> 1\u001b[0;31m \u001b[0mdf\u001b[0m \u001b[0;34m=\u001b[0m \u001b[0mpd\u001b[0m\u001b[0;34m.\u001b[0m\u001b[0mDataFrame\u001b[0m\u001b[0;34m(\u001b[0m\u001b[0moneDayData\u001b[0m\u001b[0;34m[\u001b[0m\u001b[0;34m'activities-heart-intraday'\u001b[0m\u001b[0;34m]\u001b[0m\u001b[0;34m[\u001b[0m\u001b[0;34m'dataset'\u001b[0m\u001b[0;34m]\u001b[0m\u001b[0;34m)\u001b[0m\u001b[0;34m\u001b[0m\u001b[0;34m\u001b[0m\u001b[0m\n\u001b[0m",
      "\u001b[0;31mKeyError\u001b[0m: 'activities-heart-intraday'"
     ]
    }
   ],
   "source": [
    "df = pd.DataFrame(oneDayData['activities-heart-intraday']['dataset'])"
   ]
  },
  {
   "cell_type": "code",
   "execution_count": 17,
   "metadata": {},
   "outputs": [
    {
     "ename": "NameError",
     "evalue": "name 'df' is not defined",
     "output_type": "error",
     "traceback": [
      "\u001b[0;31m---------------------------------------------------------------------------\u001b[0m",
      "\u001b[0;31mNameError\u001b[0m                                 Traceback (most recent call last)",
      "\u001b[0;32m<ipython-input-17-c42a15b2c7cf>\u001b[0m in \u001b[0;36m<module>\u001b[0;34m\u001b[0m\n\u001b[0;32m----> 1\u001b[0;31m \u001b[0mdf\u001b[0m\u001b[0;34m.\u001b[0m\u001b[0mhead\u001b[0m\u001b[0;34m(\u001b[0m\u001b[0;34m)\u001b[0m\u001b[0;34m\u001b[0m\u001b[0;34m\u001b[0m\u001b[0m\n\u001b[0m",
      "\u001b[0;31mNameError\u001b[0m: name 'df' is not defined"
     ]
    }
   ],
   "source": [
    "df.head()"
   ]
  },
  {
   "cell_type": "code",
   "execution_count": 10,
   "metadata": {},
   "outputs": [],
   "source": [
    "#예시 2 - 칼로리 뽑기\n",
    "dayDatacalories= auth2_client.intraday_time_series('activities/calories',base_date=oneDate,detail_level='1min')"
   ]
  },
  {
   "cell_type": "code",
   "execution_count": 11,
   "metadata": {},
   "outputs": [],
   "source": [
    "d_calories = pd.DataFrame(dayDatacalories['activities-calories-intraday']['dataset'])"
   ]
  },
  {
   "cell_type": "code",
   "execution_count": 12,
   "metadata": {},
   "outputs": [
    {
     "data": {
      "text/html": [
       "<div>\n",
       "<style scoped>\n",
       "    .dataframe tbody tr th:only-of-type {\n",
       "        vertical-align: middle;\n",
       "    }\n",
       "\n",
       "    .dataframe tbody tr th {\n",
       "        vertical-align: top;\n",
       "    }\n",
       "\n",
       "    .dataframe thead th {\n",
       "        text-align: right;\n",
       "    }\n",
       "</style>\n",
       "<table border=\"1\" class=\"dataframe\">\n",
       "  <thead>\n",
       "    <tr style=\"text-align: right;\">\n",
       "      <th></th>\n",
       "      <th>level</th>\n",
       "      <th>mets</th>\n",
       "      <th>time</th>\n",
       "      <th>value</th>\n",
       "    </tr>\n",
       "  </thead>\n",
       "  <tbody>\n",
       "    <tr>\n",
       "      <th>0</th>\n",
       "      <td>0</td>\n",
       "      <td>10</td>\n",
       "      <td>00:00:00</td>\n",
       "      <td>1.06160</td>\n",
       "    </tr>\n",
       "    <tr>\n",
       "      <th>1</th>\n",
       "      <td>0</td>\n",
       "      <td>10</td>\n",
       "      <td>00:01:00</td>\n",
       "      <td>1.06160</td>\n",
       "    </tr>\n",
       "    <tr>\n",
       "      <th>2</th>\n",
       "      <td>0</td>\n",
       "      <td>10</td>\n",
       "      <td>00:02:00</td>\n",
       "      <td>1.06160</td>\n",
       "    </tr>\n",
       "    <tr>\n",
       "      <th>3</th>\n",
       "      <td>0</td>\n",
       "      <td>10</td>\n",
       "      <td>00:03:00</td>\n",
       "      <td>1.06160</td>\n",
       "    </tr>\n",
       "    <tr>\n",
       "      <th>4</th>\n",
       "      <td>0</td>\n",
       "      <td>10</td>\n",
       "      <td>00:04:00</td>\n",
       "      <td>1.06160</td>\n",
       "    </tr>\n",
       "    <tr>\n",
       "      <th>...</th>\n",
       "      <td>...</td>\n",
       "      <td>...</td>\n",
       "      <td>...</td>\n",
       "      <td>...</td>\n",
       "    </tr>\n",
       "    <tr>\n",
       "      <th>1435</th>\n",
       "      <td>0</td>\n",
       "      <td>11</td>\n",
       "      <td>23:55:00</td>\n",
       "      <td>1.16776</td>\n",
       "    </tr>\n",
       "    <tr>\n",
       "      <th>1436</th>\n",
       "      <td>0</td>\n",
       "      <td>10</td>\n",
       "      <td>23:56:00</td>\n",
       "      <td>1.06160</td>\n",
       "    </tr>\n",
       "    <tr>\n",
       "      <th>1437</th>\n",
       "      <td>0</td>\n",
       "      <td>11</td>\n",
       "      <td>23:57:00</td>\n",
       "      <td>1.16776</td>\n",
       "    </tr>\n",
       "    <tr>\n",
       "      <th>1438</th>\n",
       "      <td>0</td>\n",
       "      <td>10</td>\n",
       "      <td>23:58:00</td>\n",
       "      <td>1.06160</td>\n",
       "    </tr>\n",
       "    <tr>\n",
       "      <th>1439</th>\n",
       "      <td>0</td>\n",
       "      <td>10</td>\n",
       "      <td>23:59:00</td>\n",
       "      <td>1.06160</td>\n",
       "    </tr>\n",
       "  </tbody>\n",
       "</table>\n",
       "<p>1440 rows × 4 columns</p>\n",
       "</div>"
      ],
      "text/plain": [
       "      level  mets      time    value\n",
       "0         0    10  00:00:00  1.06160\n",
       "1         0    10  00:01:00  1.06160\n",
       "2         0    10  00:02:00  1.06160\n",
       "3         0    10  00:03:00  1.06160\n",
       "4         0    10  00:04:00  1.06160\n",
       "...     ...   ...       ...      ...\n",
       "1435      0    11  23:55:00  1.16776\n",
       "1436      0    10  23:56:00  1.06160\n",
       "1437      0    11  23:57:00  1.16776\n",
       "1438      0    10  23:58:00  1.06160\n",
       "1439      0    10  23:59:00  1.06160\n",
       "\n",
       "[1440 rows x 4 columns]"
      ]
     },
     "execution_count": 12,
     "metadata": {},
     "output_type": "execute_result"
    }
   ],
   "source": [
    "d_calories"
   ]
  },
  {
   "cell_type": "code",
   "execution_count": 14,
   "metadata": {},
   "outputs": [
    {
     "name": "stderr",
     "output_type": "stream",
     "text": [
      "C:\\Users\\sjyoo\\Anaconda3\\envs\\fitbit\\lib\\site-packages\\ipykernel_launcher.py:1: FutureWarning: The pandas.datetime class is deprecated and will be removed from pandas in a future version. Import from datetime module instead.\n",
      "  \"\"\"Entry point for launching an IPython kernel.\n",
      "C:\\Users\\sjyoo\\Anaconda3\\envs\\fitbit\\lib\\site-packages\\ipykernel_launcher.py:2: FutureWarning: The pandas.datetime class is deprecated and will be removed from pandas in a future version. Import from datetime module instead.\n",
      "  \n"
     ]
    }
   ],
   "source": [
    "#3월 14일 부터 오늘까지 데이터 csv로 저장\n",
    "startTime = pd.datetime(year = 2022, month = 3, day = 14)\n",
    "endTime = pd.datetime.today().date() - datetime.timedelta(days=1)"
   ]
  },
  {
   "cell_type": "code",
   "execution_count": 16,
   "metadata": {},
   "outputs": [],
   "source": [
    "date_list = []\n",
    "df_list = []\n",
    "allDates = pd.date_range(start=startTime, end = endTime)\n",
    "\n",
    "for oneDate in allDates:\n",
    "    \n",
    "    oneDate = oneDate.date().strftime(\"%Y-%m-%d\")\n",
    "    \n",
    "    oneDayData = auth2_client.intraday_time_series('activities/heart', base_date=oneDate, detail_level='1sec')\n",
    "\n",
    "    df = pd.DataFrame(oneDayData['activities-heart-intraday']['dataset'])\n",
    "    \n",
    "    date_list.append(oneDate)\n",
    "    \n",
    "    df_list.append(df)\n",
    "    \n",
    "final_df_list = []\n",
    "\n",
    "for date, df in zip(date_list, df_list):\n",
    "\n",
    "    if len(df) == 0:\n",
    "        continue\n",
    "    \n",
    "    df.loc[:, 'date'] = pd.to_datetime(date)\n",
    "    \n",
    "    final_df_list.append(df)\n",
    "\n",
    "final_df = pd.concat(final_df_list, axis = 0)"
   ]
  },
  {
   "cell_type": "code",
   "execution_count": 17,
   "metadata": {},
   "outputs": [
    {
     "data": {
      "text/html": [
       "<div>\n",
       "<style scoped>\n",
       "    .dataframe tbody tr th:only-of-type {\n",
       "        vertical-align: middle;\n",
       "    }\n",
       "\n",
       "    .dataframe tbody tr th {\n",
       "        vertical-align: top;\n",
       "    }\n",
       "\n",
       "    .dataframe thead th {\n",
       "        text-align: right;\n",
       "    }\n",
       "</style>\n",
       "<table border=\"1\" class=\"dataframe\">\n",
       "  <thead>\n",
       "    <tr style=\"text-align: right;\">\n",
       "      <th></th>\n",
       "      <th>time</th>\n",
       "      <th>value</th>\n",
       "      <th>date</th>\n",
       "    </tr>\n",
       "  </thead>\n",
       "  <tbody>\n",
       "    <tr>\n",
       "      <th>0</th>\n",
       "      <td>16:46:38</td>\n",
       "      <td>73</td>\n",
       "      <td>2022-03-14</td>\n",
       "    </tr>\n",
       "    <tr>\n",
       "      <th>1</th>\n",
       "      <td>16:46:43</td>\n",
       "      <td>79</td>\n",
       "      <td>2022-03-14</td>\n",
       "    </tr>\n",
       "    <tr>\n",
       "      <th>2</th>\n",
       "      <td>16:46:48</td>\n",
       "      <td>80</td>\n",
       "      <td>2022-03-14</td>\n",
       "    </tr>\n",
       "    <tr>\n",
       "      <th>3</th>\n",
       "      <td>16:46:53</td>\n",
       "      <td>85</td>\n",
       "      <td>2022-03-14</td>\n",
       "    </tr>\n",
       "    <tr>\n",
       "      <th>4</th>\n",
       "      <td>16:47:03</td>\n",
       "      <td>84</td>\n",
       "      <td>2022-03-14</td>\n",
       "    </tr>\n",
       "    <tr>\n",
       "      <th>...</th>\n",
       "      <td>...</td>\n",
       "      <td>...</td>\n",
       "      <td>...</td>\n",
       "    </tr>\n",
       "    <tr>\n",
       "      <th>11368</th>\n",
       "      <td>23:58:26</td>\n",
       "      <td>86</td>\n",
       "      <td>2022-03-28</td>\n",
       "    </tr>\n",
       "    <tr>\n",
       "      <th>11369</th>\n",
       "      <td>23:58:36</td>\n",
       "      <td>84</td>\n",
       "      <td>2022-03-28</td>\n",
       "    </tr>\n",
       "    <tr>\n",
       "      <th>11370</th>\n",
       "      <td>23:58:41</td>\n",
       "      <td>83</td>\n",
       "      <td>2022-03-28</td>\n",
       "    </tr>\n",
       "    <tr>\n",
       "      <th>11371</th>\n",
       "      <td>23:58:46</td>\n",
       "      <td>82</td>\n",
       "      <td>2022-03-28</td>\n",
       "    </tr>\n",
       "    <tr>\n",
       "      <th>11372</th>\n",
       "      <td>23:58:51</td>\n",
       "      <td>82</td>\n",
       "      <td>2022-03-28</td>\n",
       "    </tr>\n",
       "  </tbody>\n",
       "</table>\n",
       "<p>177600 rows × 3 columns</p>\n",
       "</div>"
      ],
      "text/plain": [
       "           time  value       date\n",
       "0      16:46:38     73 2022-03-14\n",
       "1      16:46:43     79 2022-03-14\n",
       "2      16:46:48     80 2022-03-14\n",
       "3      16:46:53     85 2022-03-14\n",
       "4      16:47:03     84 2022-03-14\n",
       "...         ...    ...        ...\n",
       "11368  23:58:26     86 2022-03-28\n",
       "11369  23:58:36     84 2022-03-28\n",
       "11370  23:58:41     83 2022-03-28\n",
       "11371  23:58:46     82 2022-03-28\n",
       "11372  23:58:51     82 2022-03-28\n",
       "\n",
       "[177600 rows x 3 columns]"
      ]
     },
     "execution_count": 17,
     "metadata": {},
     "output_type": "execute_result"
    }
   ],
   "source": [
    "final_df"
   ]
  },
  {
   "cell_type": "code",
   "execution_count": 18,
   "metadata": {},
   "outputs": [],
   "source": [
    "#csv로 저장\n",
    "filename = 'all_intradata_1'\n",
    "final_df.to_csv(filename + '.csv', index = False)"
   ]
  },
  {
   "cell_type": "code",
   "execution_count": null,
   "metadata": {},
   "outputs": [],
   "source": []
  }
 ],
 "metadata": {
  "kernelspec": {
   "display_name": "Python 3",
   "language": "python",
   "name": "python3"
  },
  "language_info": {
   "codemirror_mode": {
    "name": "ipython",
    "version": 3
   },
   "file_extension": ".py",
   "mimetype": "text/x-python",
   "name": "python",
   "nbconvert_exporter": "python",
   "pygments_lexer": "ipython3",
   "version": "3.7.6"
  }
 },
 "nbformat": 4,
 "nbformat_minor": 5
}
